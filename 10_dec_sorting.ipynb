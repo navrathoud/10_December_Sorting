{
 "cells": [
  {
   "cell_type": "code",
   "execution_count": 37,
   "id": "a1ddde30",
   "metadata": {},
   "outputs": [],
   "source": [
    "# Problem 1.Given an array of n numbers, give an algorithm which gives the element appearing maximum\n",
    "# number of times?\n",
    "\n",
    "def mode(arr):\n",
    "    dic = {}\n",
    "    for i in range(len(arr)):\n",
    "        if arr[i] in dic:\n",
    "            dic[arr[i]]+=1\n",
    "        else:\n",
    "            dic[arr[i]]=1\n",
    "    freq = dic[arr[0]]        \n",
    "    for key in dic:\n",
    "    \n",
    "        if dic[key]>freq:\n",
    "            freq = dic[key]\n",
    "            mode = key\n",
    "            \n",
    "    return mode,freq\n",
    "\n",
    "arr = [1, 2, 3, 4, 4, 2, 2, 3, 1, 4, 4, 4]\n",
    "mode(arr)"
   ]
  },
  {
   "cell_type": "code",
   "execution_count": 44,
   "id": "39f1abdf",
   "metadata": {},
   "outputs": [
    {
     "data": {
      "text/plain": [
       "5"
      ]
     },
     "execution_count": 44,
     "metadata": {},
     "output_type": "execute_result"
    }
   ],
   "source": [
    "# Problem 2 : We are given a list of n-1 integers and these integers are in the range of 1 to n . There are no\n",
    "# duplicates in the list. One of the integers is missing in the list. Give an algorithm to find that element Ex:\n",
    "# [1,2,4,6,3,7,8] 5 is the missing num.\n",
    "\n",
    "def find_missing(arr):\n",
    "    x = 0\n",
    "    arr.sort()\n",
    "    for i in arr:\n",
    "        x+=1\n",
    "        if i!=x:\n",
    "            return x\n",
    "    return -1\n",
    "            \n",
    "arr = [1,2,4,6,3,7,8]\n",
    "find_missing(arr)"
   ]
  },
  {
   "cell_type": "code",
   "execution_count": 56,
   "id": "d3d3b8d7",
   "metadata": {},
   "outputs": [
    {
     "data": {
      "text/plain": [
       "3"
      ]
     },
     "execution_count": 56,
     "metadata": {},
     "output_type": "execute_result"
    }
   ],
   "source": [
    "# Problem 3 : Given an array of n positive numbers. All numbers occurs even number of times except 1 which\n",
    "# occurs odd number of times. Find that number in O(n) time and O(1) space. Ex: [1,2,3,2,3,1,3]. 3 is repeats odd\n",
    "# times.\n",
    "def find_odd(arr):\n",
    "    arr.sort()\n",
    "    pivot=0\n",
    "    count=0\n",
    "    for i in range(len(arr)):\n",
    "        if arr[pivot]!=arr[i]:\n",
    "            if count%2!=0:\n",
    "                print(arr[pivot])\n",
    "            else:\n",
    "                pivot=i\n",
    "                count=1\n",
    "        else:\n",
    "            count+=1\n",
    "    if count%2!=0:\n",
    "        return arr[pivot]\n",
    "    return -1\n",
    "arr = [1,2,3,2,3,1,3]\n",
    "find_odd(arr)\n",
    "        "
   ]
  },
  {
   "cell_type": "code",
   "execution_count": 58,
   "id": "24d4018c",
   "metadata": {},
   "outputs": [
    {
     "data": {
      "text/plain": [
       "(4, 9)"
      ]
     },
     "execution_count": 58,
     "metadata": {},
     "output_type": "execute_result"
    }
   ],
   "source": [
    "# Problem 4 : Given an array of n elements. Find two elements in the array such that their sum is equal to given\n",
    "# element K.\n",
    "def sum_target(arr,target):\n",
    "    \n",
    "    l=0\n",
    "    r=len(arr)-1\n",
    "    \n",
    "    while l<r:\n",
    "        sum_ = arr[l]+arr[r]\n",
    "        if sum_==target:\n",
    "            return arr[l],arr[r]\n",
    "        if sum_>target:\n",
    "            r-=1\n",
    "        else:\n",
    "            l+=1\n",
    "arr = [1, 4, 7, 2, 9, 11]\n",
    "K = 13\n",
    "sum_target(arr,K)"
   ]
  },
  {
   "cell_type": "code",
   "execution_count": 59,
   "id": "0f33909a",
   "metadata": {},
   "outputs": [
    {
     "data": {
      "text/plain": [
       "[-80, -10, 1, 60, 70, 85]"
      ]
     },
     "execution_count": 59,
     "metadata": {},
     "output_type": "execute_result"
    }
   ],
   "source": [
    "arr = [ 1 ,60 ,-10, 70, -80,85]\n",
    "arr.sort()\n",
    "arr"
   ]
  },
  {
   "cell_type": "code",
   "execution_count": 72,
   "id": "c5328166",
   "metadata": {},
   "outputs": [
    {
     "data": {
      "text/plain": [
       "(-80, 85)"
      ]
     },
     "execution_count": 72,
     "metadata": {},
     "output_type": "execute_result"
    }
   ],
   "source": [
    "# Problem 5 : Given an array of both positive and negative numbers, find two numbers such that their sum is\n",
    "# closest to 0. Ex: [ 1 ,60 ,-10, 70, -80,85]. Ans : -80,85.\n",
    "\n",
    "def close_zero(arr):\n",
    "    l = 0\n",
    "    r = len(arr)-1\n",
    "    arr.sort()\n",
    "    diff = arr[r]+arr[l]\n",
    "    \n",
    "    while l<r:\n",
    "        \n",
    "        temp = arr[r]+arr[l]\n",
    "        \n",
    "        if temp==0:\n",
    "            return arr[l],arr[r]\n",
    "        \n",
    "        elif 0<abs(temp) and abs(temp)<diff:\n",
    "            diff = temp\n",
    "            left = arr[l]\n",
    "            right= arr[r]\n",
    "            l+=1\n",
    "        else:\n",
    "            r-=1\n",
    "    return left,right\n",
    "\n",
    "arr =  [1 ,60 ,-10, 70, -80,85,900,-9]\n",
    "close_zero(arr)         \n"
   ]
  },
  {
   "cell_type": "code",
   "execution_count": 79,
   "id": "00f07fb5",
   "metadata": {},
   "outputs": [
    {
     "data": {
      "text/plain": [
       "(2, 9, 11)"
      ]
     },
     "execution_count": 79,
     "metadata": {},
     "output_type": "execute_result"
    }
   ],
   "source": [
    "# Problem 6 : Given an array of n elements . Find three elements such that their sum is equal to the given\n",
    "# number.\n",
    "def three_ele(arr,target):\n",
    "    arr.sort()\n",
    "    for i in range(len(arr)-2):\n",
    "        l=i+1\n",
    "        r=len(arr)-1\n",
    "        \n",
    "        while l<r:\n",
    "            sum_ = arr[i]+arr[l]+arr[r]\n",
    "            if sum_==target:\n",
    "                return arr[i],arr[l],arr[r]\n",
    "            else:\n",
    "                if sum_>target:\n",
    "                    r-=1\n",
    "                else:\n",
    "                    l+=1\n",
    "    return -1\n",
    "\n",
    "arr = [1, 4, 7, 2, 9, 11, 5]\n",
    "K = 22\n",
    "\n",
    "three_ele(arr,K)\n",
    "    \n",
    "            \n",
    "            "
   ]
  },
  {
   "cell_type": "code",
   "execution_count": 103,
   "id": "49d21740",
   "metadata": {},
   "outputs": [
    {
     "data": {
      "text/plain": [
       "(3, 4, 5)"
      ]
     },
     "execution_count": 103,
     "metadata": {},
     "output_type": "execute_result"
    }
   ],
   "source": [
    "# Problem 7 : Given an array of n elements . Find three elements i, j, k in the array such that\n",
    "# i * i + j * j = k*k.\n",
    "\n",
    "def logic(arr):\n",
    "    arr.sort()\n",
    "    n=len(arr)\n",
    "    for k in range(n-1,1,-1):\n",
    "        j=k-1\n",
    "        i=0\n",
    "        while i<j:\n",
    "            if arr[i]**2+arr[j]**2==arr[k]**2:\n",
    "                return arr[i],arr[j],arr[k]\n",
    "            else:\n",
    "                if arr[i]**2+arr[j]**2<arr[k]**2:\n",
    "                    i+=1\n",
    "                else:\n",
    "                    j-=1\n",
    "    return -1\n",
    "                    \n",
    "arr = [3, 1, 4, 6, 5]\n",
    "logic(arr)\n"
   ]
  },
  {
   "cell_type": "code",
   "execution_count": 114,
   "id": "050d3286",
   "metadata": {},
   "outputs": [
    {
     "data": {
      "text/plain": [
       "[3]"
      ]
     },
     "execution_count": 114,
     "metadata": {},
     "output_type": "execute_result"
    }
   ],
   "source": [
    "# Problem 8 : An element is a majority if it appears more than n/2 times. Give an algorithm takes an array of n\n",
    "# element as argument and identifies a majority (if it exists).\n",
    "\n",
    "def majority(arr):\n",
    "    arr.sort()\n",
    "    n = len(arr)\n",
    "    pivot = 0\n",
    "    count=0\n",
    "    list_major=[]\n",
    "    \n",
    "    for i in range(n):\n",
    "        if arr[pivot]!=arr[i]:\n",
    "            if count>=n/2:\n",
    "                list_major.append(arr[pivotal])\n",
    "            else:\n",
    "                pivot = i\n",
    "                count=1\n",
    "                \n",
    "        \n",
    "        else:\n",
    "            count+=1\n",
    "    if count>n/2:\n",
    "        list_major.append(arr[pivot])\n",
    "        return list_major\n",
    "    return -1\n",
    "            \n",
    "        \n",
    "        \n",
    "arr = [1,2,3,2,3,3,3,3]    \n",
    "majority(arr)\n",
    "\n"
   ]
  },
  {
   "cell_type": "code",
   "execution_count": 119,
   "id": "9158c6c6",
   "metadata": {},
   "outputs": [
    {
     "data": {
      "text/plain": [
       "[1, 0, 0, 0, 0]"
      ]
     },
     "execution_count": 119,
     "metadata": {},
     "output_type": "execute_result"
    }
   ],
   "source": [
    "\n",
    "# Problem 9 : Given n × n matrix, and in each row all 1’s are followed by 0’s. Find the row with the maximum\n",
    "# number of 0’s.\n",
    "\n",
    "def row_max_zero(matrix):\n",
    "    \n",
    "    prev_sum=np.inf\n",
    "    \n",
    "    for row in matrix:\n",
    "        sum_=0\n",
    "        for i in row:\n",
    "            if i==0:\n",
    "                break\n",
    "            sum_+=i\n",
    "        if sum_<prev_sum: #choose row with minimum sum as less number of 1's but high number of 0's\n",
    "            prev_sum=sum_\n",
    "            row_max=row\n",
    "            \n",
    "    return row_max\n",
    "    \n",
    "\n",
    "matrix = [\n",
    "    [1, 1, 1, 0, 0],\n",
    "    [1, 1, 0, 0, 0],\n",
    "    [1, 1, 1, 1, 0],\n",
    "    [1, 0, 0, 0, 0],\n",
    "    [1, 1, 1, 1, 1]\n",
    "]\n",
    "row_max_zero(matrix)"
   ]
  },
  {
   "cell_type": "code",
   "execution_count": 126,
   "id": "6e31318f",
   "metadata": {},
   "outputs": [
    {
     "data": {
      "text/plain": [
       "[0, 0, 0, 0, 0, 1, 1, 1, 1, 1, 2, 2]"
      ]
     },
     "execution_count": 126,
     "metadata": {},
     "output_type": "execute_result"
    }
   ],
   "source": [
    "# Problem 10 : Sort an array of 0’s, 1’s and 2’s [or R’s, G’s and B’s]: Given an array A[] consisting of 0’s, 1’s and\n",
    "# 2’s, give an algorithm for sorting A[].The algorithm should put all 0’s first, then all 1’s and finally all 2’s at the\n",
    "# end. Example Input = {0,1,1,0,1,2,1,2,0,0,0,1}, Output = {0,0,0,0,0,1,1,1,1,1,2,2}\n",
    "\n",
    "def sort_array(arr):\n",
    "    l=0\n",
    "    r=len(arr)-1\n",
    "    i=0\n",
    "    \n",
    "    while i<=r:\n",
    "        if arr[i]==0:\n",
    "            arr[l],arr[i]=arr[i],arr[l]\n",
    "            i+=1\n",
    "            l+=1\n",
    "        elif arr[i]==2:\n",
    "            arr[i],arr[r]=arr[r],arr[i]\n",
    "            r-=1\n",
    "        else:\n",
    "            i+=1\n",
    "    return arr       \n",
    "\n",
    "\n",
    "arr=[0,1,1,0,1,2,1,2,0,0,0,1]\n",
    "            \n",
    "sort_array(arr)\n",
    "        \n",
    "        \n"
   ]
  },
  {
   "cell_type": "code",
   "execution_count": null,
   "id": "14def1ba",
   "metadata": {},
   "outputs": [],
   "source": []
  },
  {
   "cell_type": "code",
   "execution_count": null,
   "id": "82d46e4a",
   "metadata": {},
   "outputs": [],
   "source": []
  }
 ],
 "metadata": {
  "kernelspec": {
   "display_name": "Python 3",
   "language": "python",
   "name": "python3"
  },
  "language_info": {
   "codemirror_mode": {
    "name": "ipython",
    "version": 3
   },
   "file_extension": ".py",
   "mimetype": "text/x-python",
   "name": "python",
   "nbconvert_exporter": "python",
   "pygments_lexer": "ipython3",
   "version": "3.8.5"
  }
 },
 "nbformat": 4,
 "nbformat_minor": 5
}
